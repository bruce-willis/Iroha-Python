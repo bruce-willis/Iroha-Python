{
 "cells": [
  {
   "cell_type": "code",
   "execution_count": 1,
   "metadata": {},
   "outputs": [],
   "source": [
    "from iroha import Iroha, IrohaGrpc, IrohaCrypto\n",
    "from iroha.primitive_pb2 import can_set_my_account_detail, can_receive, can_transfer\n",
    "\n",
    "import binascii\n",
    "from random import randint\n",
    "from itertools import product\n",
    "\n",
    "from guizero import App, Text, Window, PushButton, ButtonGroup, TextBox, ListBox"
   ]
  },
  {
   "cell_type": "markdown",
   "metadata": {},
   "source": [
    "# Network configuration"
   ]
  },
  {
   "cell_type": "code",
   "execution_count": 2,
   "metadata": {},
   "outputs": [],
   "source": [
    "domain_name = \"animal\""
   ]
  },
  {
   "cell_type": "code",
   "execution_count": 3,
   "metadata": {},
   "outputs": [],
   "source": [
    "admin_private_key = 'f101537e319568c765b2cc89698325604991dca57b9716b58016b253506cab70'\n",
    "iroha = Iroha('admin@test')\n",
    "net = IrohaGrpc()"
   ]
  },
  {
   "cell_type": "markdown",
   "metadata": {},
   "source": [
    "# Some helpful methods"
   ]
  },
  {
   "cell_type": "code",
   "execution_count": 4,
   "metadata": {},
   "outputs": [],
   "source": [
    "def send_transaction_and_print_status(transaction):\n",
    "    hex_hash = binascii.hexlify(IrohaCrypto.hash(transaction))\n",
    "    print('Transaction hash = {}, creator = {}'.format(\n",
    "        hex_hash, transaction.payload.reduced_payload.creator_account_id))\n",
    "    net.send_tx(transaction)\n",
    "    return list(net.tx_status_stream(transaction))"
   ]
  },
  {
   "cell_type": "code",
   "execution_count": 5,
   "metadata": {},
   "outputs": [],
   "source": [
    "def admin_details():\n",
    "    query = iroha.query('GetAccountAssets', account_id=f'admin@test')\n",
    "    IrohaCrypto.sign_query(query, admin_private_key)\n",
    "\n",
    "    response = net.send_query(query)\n",
    "    data = response.account_assets_response.account_assets\n",
    "    for asset in data:\n",
    "        print('Asset id = {}, balance = {}'.format(\n",
    "            asset.asset_id, asset.balance))"
   ]
  },
  {
   "cell_type": "markdown",
   "metadata": {},
   "source": [
    "# Lets create some assets and add some quantity"
   ]
  },
  {
   "cell_type": "code",
   "execution_count": 6,
   "metadata": {},
   "outputs": [],
   "source": [
    "animals = [\n",
    "    \"cows\",\n",
    "    \"pigs\",\n",
    "    \"bull\",\n",
    "    \"horse\"\n",
    "] # uses as assets"
   ]
  },
  {
   "cell_type": "code",
   "execution_count": 7,
   "metadata": {},
   "outputs": [
    {
     "name": "stdout",
     "output_type": "stream",
     "text": [
      "Transaction hash = b'698d4dbdfe0524e11eaec150a4bf158371bd12e6e348415346683feae5e0431d', creator = admin@test\n"
     ]
    },
    {
     "data": {
      "text/plain": [
       "[('ENOUGH_SIGNATURES_COLLECTED', 9, 0),\n",
       " ('STATEFUL_VALIDATION_SUCCESS', 3, 0),\n",
       " ('COMMITTED', 5, 0)]"
      ]
     },
     "execution_count": 7,
     "metadata": {},
     "output_type": "execute_result"
    }
   ],
   "source": [
    "commands = [\n",
    "    iroha.command('CreateDomain', domain_id=domain_name, default_role='user'),\n",
    "     *[iroha.command('CreateAsset', asset_name=animal,\n",
    "                   domain_id=domain_name, precision=0)\n",
    "          for animal in animals]\n",
    "]\n",
    "tx = IrohaCrypto.sign_transaction(\n",
    "    iroha.transaction(commands), admin_private_key)\n",
    "send_transaction_and_print_status(tx)"
   ]
  },
  {
   "cell_type": "code",
   "execution_count": 8,
   "metadata": {},
   "outputs": [],
   "source": [
    "admin_details()"
   ]
  },
  {
   "cell_type": "code",
   "execution_count": 9,
   "metadata": {},
   "outputs": [
    {
     "name": "stdout",
     "output_type": "stream",
     "text": [
      "Transaction hash = b'1ac13aa9f9ae78e78ce4adc6975719f0484c1d9d5f3a3e66ebc82059b53b58a8', creator = admin@test\n"
     ]
    },
    {
     "data": {
      "text/plain": [
       "[('ENOUGH_SIGNATURES_COLLECTED', 9, 0),\n",
       " ('STATEFUL_VALIDATION_SUCCESS', 3, 0),\n",
       " ('COMMITTED', 5, 0)]"
      ]
     },
     "execution_count": 9,
     "metadata": {},
     "output_type": "execute_result"
    }
   ],
   "source": [
    "tx = iroha.transaction([\n",
    "    iroha.command('AddAssetQuantity',\n",
    "                  asset_id=f'{animal}#{domain_name}', amount='100')\n",
    "      for animal in animals\n",
    "])\n",
    "IrohaCrypto.sign_transaction(tx, admin_private_key)\n",
    "send_transaction_and_print_status(tx)"
   ]
  },
  {
   "cell_type": "code",
   "execution_count": 10,
   "metadata": {},
   "outputs": [
    {
     "name": "stdout",
     "output_type": "stream",
     "text": [
      "Asset id = cows#animal, balance = 100\n",
      "Asset id = pigs#animal, balance = 100\n",
      "Asset id = bull#animal, balance = 100\n",
      "Asset id = horse#animal, balance = 100\n"
     ]
    }
   ],
   "source": [
    "admin_details()"
   ]
  },
  {
   "cell_type": "markdown",
   "metadata": {},
   "source": [
    "# Lets create main class for ledger - Farm class"
   ]
  },
  {
   "cell_type": "code",
   "execution_count": 11,
   "metadata": {},
   "outputs": [],
   "source": [
    "class Farm:    \n",
    "    def __init__(self, account_name, domain):\n",
    "        self.account_name = account_name\n",
    "        self.domain = domain\n",
    "        self.full_name = f\"{self.account_name}@{self.domain}\"\n",
    "        self.__private_key = IrohaCrypto.private_key()\n",
    "        self.public_key = IrohaCrypto.derive_public_key(self.__private_key)\n",
    "        self.iroha = Iroha(self.full_name)\n",
    "    \n",
    "    def get_cattle(self):\n",
    "        query = self.iroha.query('GetAccountAssets', account_id=self.full_name)\n",
    "        IrohaCrypto.sign_query(query, self.__private_key)\n",
    "\n",
    "        response = net.send_query(query)\n",
    "        data = response.account_assets_response.account_assets\n",
    "        return {asset.asset_id.split('#')[0]: asset.balance for asset in data}\n",
    "        \n",
    "        \n",
    "    def transfer_animal(self, name_to, animal, amount):\n",
    "        reciever = f\"{name_to}@{self.domain}\"\n",
    "        tx = self.iroha.transaction(\n",
    "            [\n",
    "                iroha.command(\n",
    "                    \"TransferAsset\",\n",
    "                    src_account_id=self.full_name,\n",
    "                    dest_account_id=reciever,\n",
    "                    asset_id=f\"{animal}#{self.domain}\",\n",
    "                    description=\"transfer\",\n",
    "                    amount=str(amount),\n",
    "                )\n",
    "            ]\n",
    "        )\n",
    "        IrohaCrypto.sign_transaction(tx, self.__private_key)\n",
    "        return send_transaction_and_print_status(tx)"
   ]
  },
  {
   "cell_type": "code",
   "execution_count": 12,
   "metadata": {},
   "outputs": [],
   "source": [
    "farm_names = [\"miratorg\", \"happy\", \"greatest\", \"milk\"]"
   ]
  },
  {
   "cell_type": "code",
   "execution_count": 13,
   "metadata": {},
   "outputs": [],
   "source": [
    "farms = [Farm(name, domain_name) for name in farm_names]"
   ]
  },
  {
   "cell_type": "code",
   "execution_count": 14,
   "metadata": {},
   "outputs": [
    {
     "name": "stdout",
     "output_type": "stream",
     "text": [
      "Transaction hash = b'54a07781e521dc8b45b19622067f1dd71bba40605edb57d1fa393d47e1f4c568', creator = admin@test\n"
     ]
    },
    {
     "data": {
      "text/plain": [
       "[('ENOUGH_SIGNATURES_COLLECTED', 9, 0),\n",
       " ('STATEFUL_VALIDATION_SUCCESS', 3, 0),\n",
       " ('COMMITTED', 5, 0)]"
      ]
     },
     "execution_count": 14,
     "metadata": {},
     "output_type": "execute_result"
    }
   ],
   "source": [
    "tx = iroha.transaction([\n",
    "    iroha.command('CreateAccount', account_name=farm.account_name, domain_id=farm.domain,\n",
    "                  public_key=farm.public_key)\n",
    "    for farm in farms\n",
    "])\n",
    "IrohaCrypto.sign_transaction(tx, admin_private_key)\n",
    "send_transaction_and_print_status(tx)"
   ]
  },
  {
   "cell_type": "markdown",
   "metadata": {},
   "source": [
    "## Lets add some random initial asset to all farms"
   ]
  },
  {
   "cell_type": "code",
   "execution_count": 15,
   "metadata": {},
   "outputs": [
    {
     "name": "stdout",
     "output_type": "stream",
     "text": [
      "Transaction hash = b'2dbf78736a821414af6a6e593ccbda5cbff8189a5f86accaadc05a1e709cf50e', creator = admin@test\n"
     ]
    },
    {
     "data": {
      "text/plain": [
       "[('ENOUGH_SIGNATURES_COLLECTED', 9, 0),\n",
       " ('STATEFUL_VALIDATION_SUCCESS', 3, 0),\n",
       " ('COMMITTED', 5, 0)]"
      ]
     },
     "execution_count": 15,
     "metadata": {},
     "output_type": "execute_result"
    }
   ],
   "source": [
    "tx = iroha.transaction([\n",
    "    iroha.command('TransferAsset', src_account_id='admin@test', dest_account_id=f'{name}@{domain_name}',\n",
    "                  asset_id=f'{asset}#{domain_name}', amount=str(randint(1, 10)))\n",
    "    for asset, name in product(animals, farm_names)\n",
    "])\n",
    "IrohaCrypto.sign_transaction(tx, admin_private_key)\n",
    "send_transaction_and_print_status(tx)"
   ]
  },
  {
   "cell_type": "code",
   "execution_count": 16,
   "metadata": {},
   "outputs": [
    {
     "name": "stdout",
     "output_type": "stream",
     "text": [
      "Asset id = cows#animal, balance = 71\n",
      "Asset id = pigs#animal, balance = 72\n",
      "Asset id = bull#animal, balance = 75\n",
      "Asset id = horse#animal, balance = 70\n"
     ]
    }
   ],
   "source": [
    "admin_details()"
   ]
  },
  {
   "cell_type": "markdown",
   "metadata": {},
   "source": [
    "## Lets test transfering between accounts"
   ]
  },
  {
   "cell_type": "code",
   "execution_count": 17,
   "metadata": {},
   "outputs": [
    {
     "data": {
      "text/plain": [
       "'9'"
      ]
     },
     "execution_count": 17,
     "metadata": {},
     "output_type": "execute_result"
    }
   ],
   "source": [
    "farms[0].get_cattle()['horse']"
   ]
  },
  {
   "cell_type": "code",
   "execution_count": 18,
   "metadata": {},
   "outputs": [
    {
     "data": {
      "text/plain": [
       "'7'"
      ]
     },
     "execution_count": 18,
     "metadata": {},
     "output_type": "execute_result"
    }
   ],
   "source": [
    "farms[1].get_cattle()['horse']"
   ]
  },
  {
   "cell_type": "code",
   "execution_count": 19,
   "metadata": {},
   "outputs": [
    {
     "name": "stdout",
     "output_type": "stream",
     "text": [
      "Transaction hash = b'a4e2735a69fddbcbdcf2237dd4ddf8e952111d40154425514b9d995aaa43a793', creator = miratorg@animal\n"
     ]
    },
    {
     "data": {
      "text/plain": [
       "[('ENOUGH_SIGNATURES_COLLECTED', 9, 0),\n",
       " ('STATEFUL_VALIDATION_SUCCESS', 3, 0),\n",
       " ('COMMITTED', 5, 0)]"
      ]
     },
     "execution_count": 19,
     "metadata": {},
     "output_type": "execute_result"
    }
   ],
   "source": [
    "farms[0].transfer_animal(farms[1].account_name, 'horse', 8)"
   ]
  },
  {
   "cell_type": "code",
   "execution_count": 20,
   "metadata": {},
   "outputs": [
    {
     "data": {
      "text/plain": [
       "'1'"
      ]
     },
     "execution_count": 20,
     "metadata": {},
     "output_type": "execute_result"
    }
   ],
   "source": [
    "farms[0].get_cattle()['horse']"
   ]
  },
  {
   "cell_type": "code",
   "execution_count": 21,
   "metadata": {},
   "outputs": [
    {
     "data": {
      "text/plain": [
       "'15'"
      ]
     },
     "execution_count": 21,
     "metadata": {},
     "output_type": "execute_result"
    }
   ],
   "source": [
    "farms[1].get_cattle()['horse']"
   ]
  },
  {
   "cell_type": "markdown",
   "metadata": {},
   "source": [
    "### As we can see, number of cows in first firm decreased and in second increased.\n",
    "### So, system works\n",
    "### Lets have more fun with GUI"
   ]
  },
  {
   "cell_type": "markdown",
   "metadata": {},
   "source": [
    "# GUI PART"
   ]
  },
  {
   "cell_type": "code",
   "execution_count": 22,
   "metadata": {},
   "outputs": [],
   "source": [
    "def get_info_for_farm(farm):\n",
    "    stats = str(farm.get_cattle()).strip('{}').strip(\"''\")\n",
    "    message = f\"\"\"On farm {farm.account_name} left:\\n{stats}\"\"\"\n",
    "    return message"
   ]
  },
  {
   "cell_type": "code",
   "execution_count": 23,
   "metadata": {},
   "outputs": [],
   "source": [
    "def update_info_for_farm(text, farm):  \n",
    "    message = get_info_for_farm(farm)\n",
    "    text.value = message"
   ]
  },
  {
   "cell_type": "code",
   "execution_count": 24,
   "metadata": {},
   "outputs": [],
   "source": [
    "def update_info_for_all_farms(text):\n",
    "    message = '\\n\\n'.join([get_info_for_farm(farm) for farm in farms])\n",
    "    text.value = message"
   ]
  },
  {
   "cell_type": "code",
   "execution_count": 25,
   "metadata": {},
   "outputs": [],
   "source": [
    "def transfer(farm, whom, what, how_many, status, history):\n",
    "    whom, what, how_many = whom.get(), what.get(), how_many.get()\n",
    "    print(f\"request to send from {farm.account_name} to {whom} {what} in amount {how_many}\")\n",
    "    result = farm.transfer_animal(whom, what, int(how_many))\n",
    "    result = '\\n'.join([str(r) for r in result]) \n",
    "    print(result)\n",
    "    history.append(result)\n",
    "    status.value = f\"Status:\\n{result}\""
   ]
  },
  {
   "cell_type": "code",
   "execution_count": 26,
   "metadata": {},
   "outputs": [],
   "source": [
    "def create_app():\n",
    "    app = App(title=\"Main window for admin\")\n",
    "    status_for_all = Text(app, text=\"\")\n",
    "    status_for_all.repeat(1000, update_info_for_all_farms, [status_for_all])\n",
    "    \n",
    "    operation_history_text = Text(app, text=\"\\n\\nTransaction history:\")\n",
    "    history = ListBox(app, scrollbar=True)\n",
    "    \n",
    "    for i, farm in enumerate(farms):\n",
    "        window = Window(app, title=f\"Window for {farm.account_name}\")\n",
    "        text = Text(window, text=\"\")\n",
    "        text.repeat(1000, update_info_for_farm, [text, farm])\n",
    "        bg = ButtonGroup(window, options=animals)\n",
    "        text = Text(window, text=\"Send to:\")\n",
    "        whom = TextBox(window, text='')\n",
    "        text = Text(window, text=\"Amount:\")\n",
    "        how_many = TextBox(window)\n",
    "        status = Text(window, text=\"Status:\")\n",
    "        button = PushButton(window, transfer, text=\"Transfer!\", \n",
    "                            args=[farm, whom, bg, how_many, status, history])\n",
    "        \n",
    "    app.display()"
   ]
  },
  {
   "cell_type": "code",
   "execution_count": null,
   "metadata": {},
   "outputs": [
    {
     "name": "stdout",
     "output_type": "stream",
     "text": [
      "request to send from happy to milk bull in amount 9\n",
      "Transaction hash = b'430b543394b0dd33a949966e8f2a01809b81e93edf049fbe9518ee859196ac86', creator = happy@animal\n",
      "('ENOUGH_SIGNATURES_COLLECTED', 9, 0)\n",
      "('STATEFUL_VALIDATION_SUCCESS', 3, 0)\n",
      "('COMMITTED', 5, 0)\n",
      "request to send from milk to happy bull in amount 13\n",
      "Transaction hash = b'c427de1b9936a5ac24f226c6ec3effe0094ba8231574f22204f8e696ad5b443f', creator = milk@animal\n",
      "('ENOUGH_SIGNATURES_COLLECTED', 9, 0)\n",
      "('STATEFUL_VALIDATION_SUCCESS', 3, 0)\n",
      "('COMMITTED', 5, 0)\n",
      "request to send from happy to milk123432 bull in amount 9\n",
      "Transaction hash = b'3cb879bd4134cf8d0c48518b0639872ea88bf35014cd72cc991fd8d08c0c7db5', creator = happy@animal\n",
      "('ENOUGH_SIGNATURES_COLLECTED', 9, 0)\n",
      "('STATEFUL_VALIDATION_FAILED', 2, 2)\n",
      "('REJECTED', 4, 0)\n",
      "request to send from happy to milk bull in amount 130\n",
      "Transaction hash = b'f7b4c501a30785231eb50f22994119f9e9a4ee6774652f278084590d2a2f71f3', creator = happy@animal\n",
      "('ENOUGH_SIGNATURES_COLLECTED', 9, 0)\n",
      "('STATEFUL_VALIDATION_FAILED', 2, 6)\n",
      "('REJECTED', 4, 0)\n",
      "request to send from happy to milk bull in amount 2\n",
      "Transaction hash = b'c84c4d708e1d0c3438d5cbadbcd4b4392ad959576248d80cbff1da61bdeed663', creator = happy@animal\n",
      "('ENOUGH_SIGNATURES_COLLECTED', 9, 0)\n",
      "('STATEFUL_VALIDATION_SUCCESS', 3, 0)\n",
      "('COMMITTED', 5, 0)\n"
     ]
    }
   ],
   "source": [
    "create_app()"
   ]
  },
  {
   "cell_type": "code",
   "execution_count": null,
   "metadata": {},
   "outputs": [],
   "source": []
  }
 ],
 "metadata": {
  "kernelspec": {
   "display_name": "Python 3",
   "language": "python",
   "name": "python3"
  },
  "language_info": {
   "codemirror_mode": {
    "name": "ipython",
    "version": 3
   },
   "file_extension": ".py",
   "mimetype": "text/x-python",
   "name": "python",
   "nbconvert_exporter": "python",
   "pygments_lexer": "ipython3",
   "version": "3.7.1"
  }
 },
 "nbformat": 4,
 "nbformat_minor": 2
}
